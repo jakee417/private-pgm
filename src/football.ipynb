{
 "cells": [
  {
   "cell_type": "code",
   "execution_count": 1,
   "metadata": {},
   "outputs": [],
   "source": [
    "%load_ext autoreload\n",
    "%autoreload 2"
   ]
  },
  {
   "cell_type": "code",
   "execution_count": 107,
   "metadata": {},
   "outputs": [],
   "source": [
    "import pandas as pd\n",
    "import itertools\n",
    "from mbi import (\n",
    "    Dataset,\n",
    "    FactoredInference,\n",
    "    Domain,\n",
    ")\n",
    "from scipy import sparse\n",
    "from matplotlib import pyplot as plt"
   ]
  },
  {
   "cell_type": "code",
   "execution_count": 78,
   "metadata": {},
   "outputs": [
    {
     "name": "stdout",
     "output_type": "stream",
     "text": [
      "['ARI', 'ATL', 'BAL', 'BUF', 'CAR', 'CHI', 'CIN', 'CLE', 'DAL', 'DEN', 'DET', 'GB', 'HOU', 'IND', 'JAC', 'KC', 'LAC', 'LAR', 'LV', 'MIA', 'MIN', 'NE', 'NO', 'NYG', 'NYJ', 'PHI', 'PIT', 'SEA', 'SF', 'TB', 'TEN', 'WAS']\n"
     ]
    },
    {
     "data": {
      "text/html": [
       "<div>\n",
       "<style scoped>\n",
       "    .dataframe tbody tr th:only-of-type {\n",
       "        vertical-align: middle;\n",
       "    }\n",
       "\n",
       "    .dataframe tbody tr th {\n",
       "        vertical-align: top;\n",
       "    }\n",
       "\n",
       "    .dataframe thead th {\n",
       "        text-align: right;\n",
       "    }\n",
       "</style>\n",
       "<table border=\"1\" class=\"dataframe\">\n",
       "  <thead>\n",
       "    <tr style=\"text-align: right;\">\n",
       "      <th></th>\n",
       "      <th>visitor</th>\n",
       "      <th>home</th>\n",
       "      <th>homeFinalScore</th>\n",
       "      <th>visitorFinalScore</th>\n",
       "    </tr>\n",
       "  </thead>\n",
       "  <tbody>\n",
       "    <tr>\n",
       "      <th>0</th>\n",
       "      <td>10</td>\n",
       "      <td>15</td>\n",
       "      <td>20</td>\n",
       "      <td>21</td>\n",
       "    </tr>\n",
       "    <tr>\n",
       "      <th>1</th>\n",
       "      <td>29</td>\n",
       "      <td>20</td>\n",
       "      <td>17</td>\n",
       "      <td>20</td>\n",
       "    </tr>\n",
       "    <tr>\n",
       "      <th>2</th>\n",
       "      <td>30</td>\n",
       "      <td>22</td>\n",
       "      <td>16</td>\n",
       "      <td>15</td>\n",
       "    </tr>\n",
       "    <tr>\n",
       "      <th>3</th>\n",
       "      <td>4</td>\n",
       "      <td>1</td>\n",
       "      <td>24</td>\n",
       "      <td>10</td>\n",
       "    </tr>\n",
       "    <tr>\n",
       "      <th>4</th>\n",
       "      <td>12</td>\n",
       "      <td>2</td>\n",
       "      <td>25</td>\n",
       "      <td>9</td>\n",
       "    </tr>\n",
       "  </tbody>\n",
       "</table>\n",
       "</div>"
      ],
      "text/plain": [
       "   visitor  home  homeFinalScore  visitorFinalScore\n",
       "0       10    15              20                 21\n",
       "1       29    20              17                 20\n",
       "2       30    22              16                 15\n",
       "3        4     1              24                 10\n",
       "4       12     2              25                  9"
      ]
     },
     "execution_count": 78,
     "metadata": {},
     "output_type": "execute_result"
    }
   ],
   "source": [
    "games = pd.read_csv(\"games.csv\")\n",
    "games[\"homeWin\"] = (games.homeFinalScore >= games.visitorFinalScore).astype(int)\n",
    "TEAMS = sorted(set(games.homeTeamAbbr).union(set(games.visitorTeamAbbr)))\n",
    "print(TEAMS)\n",
    "encoding = {i: j for j, i in enumerate(TEAMS)}\n",
    "decoding = {j: i for j, i in enumerate(TEAMS)}\n",
    "games[\"visitor\"] = games.visitorTeamAbbr.map(lambda x: encoding[x])\n",
    "games[\"home\"] = games.homeTeamAbbr.map(lambda x: encoding[x])\n",
    "COLUMNS = [\"visitor\", \"home\", \"homeFinalScore\", \"visitorFinalScore\"]\n",
    "df = games[COLUMNS]\n",
    "df.head()"
   ]
  },
  {
   "cell_type": "code",
   "execution_count": 76,
   "metadata": {},
   "outputs": [],
   "source": [
    "domain = Domain(df.columns, [32, 32, 71, 71])\n",
    "data = Dataset(df=df, domain=domain)\n",
    "total = data.df.shape[0]"
   ]
  },
  {
   "cell_type": "code",
   "execution_count": 81,
   "metadata": {},
   "outputs": [
    {
     "data": {
      "text/plain": [
       "[('visitor',),\n",
       " ('home',),\n",
       " ('homeFinalScore',),\n",
       " ('visitorFinalScore',),\n",
       " ('visitor', 'home'),\n",
       " ('visitor', 'homeFinalScore'),\n",
       " ('visitor', 'visitorFinalScore'),\n",
       " ('home', 'homeFinalScore'),\n",
       " ('home', 'visitorFinalScore'),\n",
       " ('homeFinalScore', 'visitorFinalScore'),\n",
       " ('visitor', 'home', 'homeFinalScore'),\n",
       " ('visitor', 'home', 'visitorFinalScore'),\n",
       " ('visitor', 'homeFinalScore', 'visitorFinalScore'),\n",
       " ('home', 'homeFinalScore', 'visitorFinalScore'),\n",
       " ('visitor', 'home', 'homeFinalScore', 'visitorFinalScore')]"
      ]
     },
     "execution_count": 81,
     "metadata": {},
     "output_type": "execute_result"
    }
   ],
   "source": [
    "cliques = list(\n",
    "    itertools.chain.from_iterable(\n",
    "        [list(itertools.combinations(COLUMNS, i)) for i in range(1, 5)]\n",
    "    )\n",
    ")\n",
    "cliques"
   ]
  },
  {
   "cell_type": "code",
   "execution_count": 82,
   "metadata": {},
   "outputs": [],
   "source": [
    "measurements = []\n",
    "for cl in cliques:\n",
    "    x = data.project(cl).datavector()\n",
    "    I = sparse.eye(x.size)\n",
    "    measurements.append((I, x, 1.0, cl))"
   ]
  },
  {
   "cell_type": "code",
   "execution_count": 86,
   "metadata": {},
   "outputs": [],
   "source": [
    "engine = FactoredInference(domain, log=True, iters=300)"
   ]
  },
  {
   "cell_type": "code",
   "execution_count": 128,
   "metadata": {},
   "outputs": [
    {
     "name": "stdout",
     "output_type": "stream",
     "text": [
      "Total clique size: 5161984\n",
      "iteration\t\ttime\t\tl1_loss\t\tl2_loss\t\tfeasibility\n",
      "0.00\t\t0.00\t\t6420.16\t\t3906.50\t\t0.00\n",
      "50.00\t\t25.68\t\t465.28\t\t12.77\t\t0.00\n",
      "100.00\t\t53.74\t\t161.96\t\t1.49\t\t0.00\n",
      "150.00\t\t79.45\t\t96.86\t\t0.54\t\t0.00\n",
      "200.00\t\t104.31\t\t68.93\t\t0.28\t\t0.00\n",
      "250.00\t\t129.79\t\t53.75\t\t0.17\t\t0.00\n",
      "CPU times: user 1min 49s, sys: 44.4 s, total: 2min 33s\n",
      "Wall time: 2min 35s\n"
     ]
    }
   ],
   "source": [
    "%%time\n",
    "model = engine.estimate(measurements, total=total)"
   ]
  },
  {
   "cell_type": "code",
   "execution_count": 131,
   "metadata": {},
   "outputs": [
    {
     "data": {
      "text/plain": [
       "Domain(visitor: 32, home: 32, homeFinalScore: 71, visitorFinalScore: 71)"
      ]
     },
     "execution_count": 131,
     "metadata": {},
     "output_type": "execute_result"
    }
   ],
   "source": [
    "model.domain"
   ]
  },
  {
   "cell_type": "code",
   "execution_count": 142,
   "metadata": {},
   "outputs": [
    {
     "data": {
      "text/plain": [
       "[<matplotlib.lines.Line2D at 0x2dd6cde50>]"
      ]
     },
     "execution_count": 142,
     "metadata": {},
     "output_type": "execute_result"
    },
    {
     "data": {
      "image/png": "[encoded data removed]",
      "text/plain": [
       "<Figure size 640x480 with 1 Axes>"
      ]
     },
     "metadata": {},
     "output_type": "display_data"
    }
   ],
   "source": [
    "plt.plot(model.project(attrs=(\"visitor\", \"visitorFinalScore\")).datavector())"
   ]
  },
  {
   "cell_type": "code",
   "execution_count": 143,
   "metadata": {},
   "outputs": [
    {
     "data": {
      "text/plain": [
       "[<matplotlib.lines.Line2D at 0x2dd43b620>]"
      ]
     },
     "execution_count": 143,
     "metadata": {},
     "output_type": "execute_result"
    },
    {
     "data": {
      "image/png": "[encoded data removed]",
      "text/plain": [
       "<Figure size 640x480 with 1 Axes>"
      ]
     },
     "metadata": {},
     "output_type": "display_data"
    }
   ],
   "source": [
    "plt.plot(data.project(cols=((\"visitor\", \"visitorFinalScore\"))).datavector())"
   ]
  },
  {
   "cell_type": "code",
   "execution_count": 130,
   "metadata": {},
   "outputs": [],
   "source": [
    "df_synthetic = model.synthetic_data(10_000_000).df"
   ]
  },
  {
   "cell_type": "code",
   "execution_count": 93,
   "metadata": {},
   "outputs": [],
   "source": [
    "df_synthetic[\"visitorTeamAbbr\"] = df_synthetic.visitor.map(lambda x: decoding[x])\n",
    "df_synthetic[\"homeTeamAbbr\"] = df_synthetic.home.map(lambda x: decoding[x])\n",
    "df_synthetic[\"homeWin\"] = df_synthetic.homeFinalScore >= df_synthetic.visitorFinalScore"
   ]
  },
  {
   "cell_type": "code",
   "execution_count": 127,
   "metadata": {},
   "outputs": [
    {
     "data": {
      "text/html": [
       "<div>\n",
       "<style scoped>\n",
       "    .dataframe tbody tr th:only-of-type {\n",
       "        vertical-align: middle;\n",
       "    }\n",
       "\n",
       "    .dataframe tbody tr th {\n",
       "        vertical-align: top;\n",
       "    }\n",
       "\n",
       "    .dataframe thead th {\n",
       "        text-align: right;\n",
       "    }\n",
       "</style>\n",
       "<table border=\"1\" class=\"dataframe\">\n",
       "  <thead>\n",
       "    <tr style=\"text-align: right;\">\n",
       "      <th></th>\n",
       "      <th>visitor</th>\n",
       "      <th>home</th>\n",
       "      <th>homeFinalScore</th>\n",
       "      <th>visitorFinalScore</th>\n",
       "      <th>visitorTeamAbbr</th>\n",
       "      <th>homeTeamAbbr</th>\n",
       "      <th>homeWin</th>\n",
       "    </tr>\n",
       "  </thead>\n",
       "  <tbody>\n",
       "    <tr>\n",
       "      <th>0</th>\n",
       "      <td>7</td>\n",
       "      <td>2</td>\n",
       "      <td>31</td>\n",
       "      <td>33</td>\n",
       "      <td>CLE</td>\n",
       "      <td>BAL</td>\n",
       "      <td>False</td>\n",
       "    </tr>\n",
       "    <tr>\n",
       "      <th>1</th>\n",
       "      <td>12</td>\n",
       "      <td>6</td>\n",
       "      <td>27</td>\n",
       "      <td>30</td>\n",
       "      <td>HOU</td>\n",
       "      <td>CIN</td>\n",
       "      <td>False</td>\n",
       "    </tr>\n",
       "    <tr>\n",
       "      <th>2</th>\n",
       "      <td>24</td>\n",
       "      <td>7</td>\n",
       "      <td>37</td>\n",
       "      <td>20</td>\n",
       "      <td>NYJ</td>\n",
       "      <td>CLE</td>\n",
       "      <td>True</td>\n",
       "    </tr>\n",
       "    <tr>\n",
       "      <th>3</th>\n",
       "      <td>9</td>\n",
       "      <td>10</td>\n",
       "      <td>42</td>\n",
       "      <td>17</td>\n",
       "      <td>DEN</td>\n",
       "      <td>DET</td>\n",
       "      <td>True</td>\n",
       "    </tr>\n",
       "    <tr>\n",
       "      <th>4</th>\n",
       "      <td>14</td>\n",
       "      <td>30</td>\n",
       "      <td>28</td>\n",
       "      <td>20</td>\n",
       "      <td>JAC</td>\n",
       "      <td>TEN</td>\n",
       "      <td>True</td>\n",
       "    </tr>\n",
       "    <tr>\n",
       "      <th>5</th>\n",
       "      <td>30</td>\n",
       "      <td>29</td>\n",
       "      <td>20</td>\n",
       "      <td>6</td>\n",
       "      <td>TEN</td>\n",
       "      <td>TB</td>\n",
       "      <td>True</td>\n",
       "    </tr>\n",
       "    <tr>\n",
       "      <th>6</th>\n",
       "      <td>26</td>\n",
       "      <td>6</td>\n",
       "      <td>10</td>\n",
       "      <td>7</td>\n",
       "      <td>PIT</td>\n",
       "      <td>CIN</td>\n",
       "      <td>True</td>\n",
       "    </tr>\n",
       "    <tr>\n",
       "      <th>7</th>\n",
       "      <td>30</td>\n",
       "      <td>13</td>\n",
       "      <td>23</td>\n",
       "      <td>16</td>\n",
       "      <td>TEN</td>\n",
       "      <td>IND</td>\n",
       "      <td>True</td>\n",
       "    </tr>\n",
       "    <tr>\n",
       "      <th>8</th>\n",
       "      <td>1</td>\n",
       "      <td>22</td>\n",
       "      <td>48</td>\n",
       "      <td>17</td>\n",
       "      <td>ATL</td>\n",
       "      <td>NO</td>\n",
       "      <td>True</td>\n",
       "    </tr>\n",
       "    <tr>\n",
       "      <th>9</th>\n",
       "      <td>22</td>\n",
       "      <td>1</td>\n",
       "      <td>24</td>\n",
       "      <td>15</td>\n",
       "      <td>NO</td>\n",
       "      <td>ATL</td>\n",
       "      <td>True</td>\n",
       "    </tr>\n",
       "  </tbody>\n",
       "</table>\n",
       "</div>"
      ],
      "text/plain": [
       "   visitor  home  homeFinalScore  visitorFinalScore visitorTeamAbbr  \\\n",
       "0        7     2              31                 33             CLE   \n",
       "1       12     6              27                 30             HOU   \n",
       "2       24     7              37                 20             NYJ   \n",
       "3        9    10              42                 17             DEN   \n",
       "4       14    30              28                 20             JAC   \n",
       "5       30    29              20                  6             TEN   \n",
       "6       26     6              10                  7             PIT   \n",
       "7       30    13              23                 16             TEN   \n",
       "8        1    22              48                 17             ATL   \n",
       "9       22     1              24                 15              NO   \n",
       "\n",
       "  homeTeamAbbr  homeWin  \n",
       "0          BAL    False  \n",
       "1          CIN    False  \n",
       "2          CLE     True  \n",
       "3          DET     True  \n",
       "4          TEN     True  \n",
       "5           TB     True  \n",
       "6          CIN     True  \n",
       "7          IND     True  \n",
       "8           NO     True  \n",
       "9          ATL     True  "
      ]
     },
     "execution_count": 127,
     "metadata": {},
     "output_type": "execute_result"
    }
   ],
   "source": [
    "df_synthetic.head(10)"
   ]
  },
  {
   "cell_type": "code",
   "execution_count": 126,
   "metadata": {},
   "outputs": [],
   "source": [
    "def filter_df(df: pd.DataFrame, home: str, visitor: str) -> pd.DataFrame:\n",
    "    return df.loc[(df.visitorTeamAbbr == visitor) & (df.homeTeamAbbr == home)]\n",
    "\n",
    "\n",
    "def get_games(games: pd.DataFrame, team_1: str, team_2: str) -> pd.DataFrame:\n",
    "    return games.loc[\n",
    "        (games.homeTeamAbbr == team_1) & (games.visitorTeamAbbr == team_2)\n",
    "        | (games.homeTeamAbbr == team_2) & (games.visitorTeamAbbr == team_1)\n",
    "    ]\n",
    "\n",
    "\n",
    "def game_counts(df: pd.DataFrame) -> pd.DataFrame:\n",
    "    counts = (\n",
    "        df.groupby([\"homeFinalScore\", \"visitorFinalScore\"])\n",
    "        .homeTeamAbbr.count()\n",
    "        .reset_index()\n",
    "        .rename({\"homeTeamAbbr\": \"count\"}, axis=1)\n",
    "        .sort_values(by=\"count\", ascending=False)\n",
    "        .reset_index(drop=True)\n",
    "    )\n",
    "    counts[\"percentage\"] = counts[\"count\"] / counts[\"count\"].sum()\n",
    "    return counts\n",
    "\n",
    "\n",
    "def plot_home_visitor_scores(df: pd.DataFrame) -> None:\n",
    "    plt.figure(figsize=(10, 4))\n",
    "    plt.scatter(\n",
    "        x=df.homeFinalScore,\n",
    "        y=df.visitorFinalScore,\n",
    "        c=df.percentage,\n",
    "        s=3,\n",
    "        cmap=\"plasma\",\n",
    "        alpha=0.7,\n",
    "        marker=\"s\",\n",
    "        label=\"Simulated\",\n",
    "    )\n",
    "    plt.ylabel(\"Home Team Score\")\n",
    "    plt.xlabel(\"Visitor Team Score\")\n",
    "    plt.plot(\n",
    "        df.homeFinalScore,\n",
    "        df.homeFinalScore,\n",
    "        \"r-\",\n",
    "        label=\"Home Score = Visitor Score\",\n",
    "    )\n",
    "    plt.colorbar()\n",
    "    plt.legend()\n",
    "    plt.show()"
   ]
  },
  {
   "cell_type": "code",
   "execution_count": 123,
   "metadata": {},
   "outputs": [
    {
     "data": {
      "text/html": [
       "<div>\n",
       "<style scoped>\n",
       "    .dataframe tbody tr th:only-of-type {\n",
       "        vertical-align: middle;\n",
       "    }\n",
       "\n",
       "    .dataframe tbody tr th {\n",
       "        vertical-align: top;\n",
       "    }\n",
       "\n",
       "    .dataframe thead th {\n",
       "        text-align: right;\n",
       "    }\n",
       "</style>\n",
       "<table border=\"1\" class=\"dataframe\">\n",
       "  <thead>\n",
       "    <tr style=\"text-align: right;\">\n",
       "      <th></th>\n",
       "      <th>date</th>\n",
       "      <th>visitorTeam</th>\n",
       "      <th>visitorTeamAbbr</th>\n",
       "      <th>visitorFinalScore</th>\n",
       "      <th>homeTeam</th>\n",
       "      <th>homeTeamAbbr</th>\n",
       "      <th>homeFinalScore</th>\n",
       "      <th>homeWin</th>\n",
       "      <th>visitor</th>\n",
       "      <th>home</th>\n",
       "    </tr>\n",
       "  </thead>\n",
       "  <tbody>\n",
       "  </tbody>\n",
       "</table>\n",
       "</div>"
      ],
      "text/plain": [
       "Empty DataFrame\n",
       "Columns: [date, visitorTeam, visitorTeamAbbr, visitorFinalScore, homeTeam, homeTeamAbbr, homeFinalScore, homeWin, visitor, home]\n",
       "Index: []"
      ]
     },
     "execution_count": 123,
     "metadata": {},
     "output_type": "execute_result"
    }
   ],
   "source": [
    "get_games(games=games, team_1=\"KC\", team_2=\"BAL\")"
   ]
  },
  {
   "cell_type": "code",
   "execution_count": 121,
   "metadata": {},
   "outputs": [
    {
     "data": {
      "image/png": "[encoded data removed]",
      "text/plain": [
       "<Figure size 1000x400 with 2 Axes>"
      ]
     },
     "metadata": {},
     "output_type": "display_data"
    }
   ],
   "source": [
    "bal_kc_counts = game_counts(filter_df(df=df_synthetic, home=\"BAL\", visitor=\"KC\"))\n",
    "plot_home_visitor_scores(bal_kc_counts)"
   ]
  },
  {
   "cell_type": "code",
   "execution_count": 124,
   "metadata": {},
   "outputs": [
    {
     "data": {
      "text/html": [
       "<div>\n",
       "<style scoped>\n",
       "    .dataframe tbody tr th:only-of-type {\n",
       "        vertical-align: middle;\n",
       "    }\n",
       "\n",
       "    .dataframe tbody tr th {\n",
       "        vertical-align: top;\n",
       "    }\n",
       "\n",
       "    .dataframe thead th {\n",
       "        text-align: right;\n",
       "    }\n",
       "</style>\n",
       "<table border=\"1\" class=\"dataframe\">\n",
       "  <thead>\n",
       "    <tr style=\"text-align: right;\">\n",
       "      <th></th>\n",
       "      <th>homeFinalScore</th>\n",
       "      <th>visitorFinalScore</th>\n",
       "      <th>count</th>\n",
       "      <th>percentage</th>\n",
       "    </tr>\n",
       "  </thead>\n",
       "  <tbody>\n",
       "    <tr>\n",
       "      <th>0</th>\n",
       "      <td>17</td>\n",
       "      <td>31</td>\n",
       "      <td>3</td>\n",
       "      <td>0.061224</td>\n",
       "    </tr>\n",
       "    <tr>\n",
       "      <th>1</th>\n",
       "      <td>27</td>\n",
       "      <td>19</td>\n",
       "      <td>3</td>\n",
       "      <td>0.061224</td>\n",
       "    </tr>\n",
       "    <tr>\n",
       "      <th>2</th>\n",
       "      <td>9</td>\n",
       "      <td>17</td>\n",
       "      <td>2</td>\n",
       "      <td>0.040816</td>\n",
       "    </tr>\n",
       "    <tr>\n",
       "      <th>3</th>\n",
       "      <td>37</td>\n",
       "      <td>31</td>\n",
       "      <td>2</td>\n",
       "      <td>0.040816</td>\n",
       "    </tr>\n",
       "    <tr>\n",
       "      <th>4</th>\n",
       "      <td>2</td>\n",
       "      <td>19</td>\n",
       "      <td>1</td>\n",
       "      <td>0.020408</td>\n",
       "    </tr>\n",
       "    <tr>\n",
       "      <th>5</th>\n",
       "      <td>34</td>\n",
       "      <td>31</td>\n",
       "      <td>1</td>\n",
       "      <td>0.020408</td>\n",
       "    </tr>\n",
       "    <tr>\n",
       "      <th>6</th>\n",
       "      <td>28</td>\n",
       "      <td>23</td>\n",
       "      <td>1</td>\n",
       "      <td>0.020408</td>\n",
       "    </tr>\n",
       "    <tr>\n",
       "      <th>7</th>\n",
       "      <td>31</td>\n",
       "      <td>23</td>\n",
       "      <td>1</td>\n",
       "      <td>0.020408</td>\n",
       "    </tr>\n",
       "    <tr>\n",
       "      <th>8</th>\n",
       "      <td>31</td>\n",
       "      <td>40</td>\n",
       "      <td>1</td>\n",
       "      <td>0.020408</td>\n",
       "    </tr>\n",
       "    <tr>\n",
       "      <th>9</th>\n",
       "      <td>32</td>\n",
       "      <td>17</td>\n",
       "      <td>1</td>\n",
       "      <td>0.020408</td>\n",
       "    </tr>\n",
       "  </tbody>\n",
       "</table>\n",
       "</div>"
      ],
      "text/plain": [
       "   homeFinalScore  visitorFinalScore  count  percentage\n",
       "0              17                 31      3    0.061224\n",
       "1              27                 19      3    0.061224\n",
       "2               9                 17      2    0.040816\n",
       "3              37                 31      2    0.040816\n",
       "4               2                 19      1    0.020408\n",
       "5              34                 31      1    0.020408\n",
       "6              28                 23      1    0.020408\n",
       "7              31                 23      1    0.020408\n",
       "8              31                 40      1    0.020408\n",
       "9              32                 17      1    0.020408"
      ]
     },
     "execution_count": 124,
     "metadata": {},
     "output_type": "execute_result"
    }
   ],
   "source": [
    "bal_kc_counts.head(10)"
   ]
  },
  {
   "cell_type": "code",
   "execution_count": 116,
   "metadata": {},
   "outputs": [
    {
     "data": {
      "text/html": [
       "<div>\n",
       "<style scoped>\n",
       "    .dataframe tbody tr th:only-of-type {\n",
       "        vertical-align: middle;\n",
       "    }\n",
       "\n",
       "    .dataframe tbody tr th {\n",
       "        vertical-align: top;\n",
       "    }\n",
       "\n",
       "    .dataframe thead th {\n",
       "        text-align: right;\n",
       "    }\n",
       "</style>\n",
       "<table border=\"1\" class=\"dataframe\">\n",
       "  <thead>\n",
       "    <tr style=\"text-align: right;\">\n",
       "      <th></th>\n",
       "      <th>date</th>\n",
       "      <th>visitorTeam</th>\n",
       "      <th>visitorTeamAbbr</th>\n",
       "      <th>visitorFinalScore</th>\n",
       "      <th>homeTeam</th>\n",
       "      <th>homeTeamAbbr</th>\n",
       "      <th>homeFinalScore</th>\n",
       "      <th>homeWin</th>\n",
       "      <th>visitor</th>\n",
       "      <th>home</th>\n",
       "    </tr>\n",
       "  </thead>\n",
       "  <tbody>\n",
       "  </tbody>\n",
       "</table>\n",
       "</div>"
      ],
      "text/plain": [
       "Empty DataFrame\n",
       "Columns: [date, visitorTeam, visitorTeamAbbr, visitorFinalScore, homeTeam, homeTeamAbbr, homeFinalScore, homeWin, visitor, home]\n",
       "Index: []"
      ]
     },
     "execution_count": 116,
     "metadata": {},
     "output_type": "execute_result"
    }
   ],
   "source": [
    "get_games(games=games, team_1=\"SF\", team_2=\"DET\")"
   ]
  },
  {
   "cell_type": "code",
   "execution_count": 119,
   "metadata": {},
   "outputs": [
    {
     "data": {
      "image/png": "[encoded data removed]",
      "text/plain": [
       "<Figure size 1000x400 with 2 Axes>"
      ]
     },
     "metadata": {},
     "output_type": "display_data"
    }
   ],
   "source": [
    "sf_det_counts = game_counts(filter_df(df=df_synthetic, home=\"SF\", visitor=\"DET\"))\n",
    "plot_home_visitor_scores(sf_det_counts)"
   ]
  },
  {
   "cell_type": "code",
   "execution_count": 125,
   "metadata": {},
   "outputs": [
    {
     "data": {
      "text/html": [
       "<div>\n",
       "<style scoped>\n",
       "    .dataframe tbody tr th:only-of-type {\n",
       "        vertical-align: middle;\n",
       "    }\n",
       "\n",
       "    .dataframe tbody tr th {\n",
       "        vertical-align: top;\n",
       "    }\n",
       "\n",
       "    .dataframe thead th {\n",
       "        text-align: right;\n",
       "    }\n",
       "</style>\n",
       "<table border=\"1\" class=\"dataframe\">\n",
       "  <thead>\n",
       "    <tr style=\"text-align: right;\">\n",
       "      <th></th>\n",
       "      <th>homeFinalScore</th>\n",
       "      <th>visitorFinalScore</th>\n",
       "      <th>count</th>\n",
       "      <th>percentage</th>\n",
       "    </tr>\n",
       "  </thead>\n",
       "  <tbody>\n",
       "    <tr>\n",
       "      <th>0</th>\n",
       "      <td>20</td>\n",
       "      <td>21</td>\n",
       "      <td>55</td>\n",
       "      <td>0.55</td>\n",
       "    </tr>\n",
       "    <tr>\n",
       "      <th>1</th>\n",
       "      <td>28</td>\n",
       "      <td>33</td>\n",
       "      <td>6</td>\n",
       "      <td>0.06</td>\n",
       "    </tr>\n",
       "    <tr>\n",
       "      <th>2</th>\n",
       "      <td>24</td>\n",
       "      <td>21</td>\n",
       "      <td>4</td>\n",
       "      <td>0.04</td>\n",
       "    </tr>\n",
       "    <tr>\n",
       "      <th>3</th>\n",
       "      <td>28</td>\n",
       "      <td>16</td>\n",
       "      <td>4</td>\n",
       "      <td>0.04</td>\n",
       "    </tr>\n",
       "    <tr>\n",
       "      <th>4</th>\n",
       "      <td>20</td>\n",
       "      <td>19</td>\n",
       "      <td>2</td>\n",
       "      <td>0.02</td>\n",
       "    </tr>\n",
       "    <tr>\n",
       "      <th>5</th>\n",
       "      <td>38</td>\n",
       "      <td>41</td>\n",
       "      <td>1</td>\n",
       "      <td>0.01</td>\n",
       "    </tr>\n",
       "    <tr>\n",
       "      <th>6</th>\n",
       "      <td>38</td>\n",
       "      <td>31</td>\n",
       "      <td>1</td>\n",
       "      <td>0.01</td>\n",
       "    </tr>\n",
       "    <tr>\n",
       "      <th>7</th>\n",
       "      <td>38</td>\n",
       "      <td>23</td>\n",
       "      <td>1</td>\n",
       "      <td>0.01</td>\n",
       "    </tr>\n",
       "    <tr>\n",
       "      <th>8</th>\n",
       "      <td>38</td>\n",
       "      <td>21</td>\n",
       "      <td>1</td>\n",
       "      <td>0.01</td>\n",
       "    </tr>\n",
       "    <tr>\n",
       "      <th>9</th>\n",
       "      <td>28</td>\n",
       "      <td>17</td>\n",
       "      <td>1</td>\n",
       "      <td>0.01</td>\n",
       "    </tr>\n",
       "  </tbody>\n",
       "</table>\n",
       "</div>"
      ],
      "text/plain": [
       "   homeFinalScore  visitorFinalScore  count  percentage\n",
       "0              20                 21     55        0.55\n",
       "1              28                 33      6        0.06\n",
       "2              24                 21      4        0.04\n",
       "3              28                 16      4        0.04\n",
       "4              20                 19      2        0.02\n",
       "5              38                 41      1        0.01\n",
       "6              38                 31      1        0.01\n",
       "7              38                 23      1        0.01\n",
       "8              38                 21      1        0.01\n",
       "9              28                 17      1        0.01"
      ]
     },
     "execution_count": 125,
     "metadata": {},
     "output_type": "execute_result"
    }
   ],
   "source": [
    "sf_det_counts.head(10)"
   ]
  }
 ],
 "metadata": {
  "kernelspec": {
   "display_name": ".venv",
   "language": "python",
   "name": "python3"
  },
  "language_info": {
   "codemirror_mode": {
    "name": "ipython",
    "version": 3
   },
   "file_extension": ".py",
   "mimetype": "text/x-python",
   "name": "python",
   "nbconvert_exporter": "python",
   "pygments_lexer": "ipython3",
   "version": "3.12.0"
  }
 },
 "nbformat": 4,
 "nbformat_minor": 2
}
